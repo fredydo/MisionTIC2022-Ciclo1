{
 "cells": [
  {
   "cell_type": "markdown",
   "id": "62a5f2f1",
   "metadata": {
    "slideshow": {
     "slide_type": "slide"
    }
   },
   "source": [
    "# 1. Introducción\n",
    "Suponga que le piden mostrar 100 veces el mensaje “Bienvenido a Python”.\n",
    "¿Cómo lo solucionamos con lo que hemos visto hasta el momento?"
   ]
  },
  {
   "cell_type": "code",
   "execution_count": null,
   "id": "3764428d",
   "metadata": {
    "slideshow": {
     "slide_type": "fragment"
    }
   },
   "outputs": [],
   "source": [
    "print(\"Bienvenido a Python\")\n",
    "print(\"Bienvenido a Python\")\n",
    "print(\"Bienvenido a Python\")\n",
    "print(\"Bienvenido a Python\")\n",
    "print(\"Bienvenido a Python\")\n",
    "print(\"Bienvenido a Python\")\n",
    "#................\n",
    "\n",
    "# ¿Qué les parece?"
   ]
  },
  {
   "cell_type": "markdown",
   "id": "aed7496b",
   "metadata": {
    "slideshow": {
     "slide_type": "subslide"
    }
   },
   "source": [
    "# Ciclos\n",
    "\n",
    "- Afortunadamente, Python provee unas estructuras llamadas “ciclos” (loop).\n",
    "- Los ciclos permiten controlar cuantas veces se realiza una operación, o una secuencia de operaciones.\n",
    "- Usando un ciclo, se le puede decir a la computadora que muestre un texto cien veces sin tener que codificar “la declaración de impresión” cien veces. Veamos un ejemplo:"
   ]
  },
  {
   "cell_type": "code",
   "execution_count": null,
   "id": "fd5ddb04",
   "metadata": {
    "slideshow": {
     "slide_type": "fragment"
    }
   },
   "outputs": [],
   "source": [
    "for i in range(0,5):\n",
    "    print(\"Bienvenido a Python\")\n",
    "print(\"Fin programa\")\n"
   ]
  },
  {
   "cell_type": "markdown",
   "id": "d1a020ee",
   "metadata": {
    "slideshow": {
     "slide_type": "subslide"
    }
   },
   "source": [
    "### Estructura ciclo\n",
    "Todo ciclo consta de 3 partes fundamentales:\n",
    "\n",
    "- Inicialización variable de control\n",
    "    - Se inicializa una variable que servirá para controlar la ejecución del ciclo.\n",
    "- Prueba variable de control\n",
    "    - Se realiza una prueba sobre la variable de control para verificar si se puede o no seguir ejecutando el ciclo.\n",
    "- Cambio variable de control\n",
    "    - Se realiza un cambio sobre la variable de control."
   ]
  },
  {
   "cell_type": "markdown",
   "id": "f9dfdf7b",
   "metadata": {
    "slideshow": {
     "slide_type": "fragment"
    }
   },
   "source": [
    "<img src=\"Figures/S2-EstructuraCiclo.png\" width=\"800\" height=\"1000\">"
   ]
  },
  {
   "cell_type": "markdown",
   "id": "d2b0a263",
   "metadata": {
    "slideshow": {
     "slide_type": "subslide"
    }
   },
   "source": [
    "Python proporciona dos tipos de estructuras de bucles las cuales se detallarán a continuación: “while” y “for”."
   ]
  },
  {
   "cell_type": "markdown",
   "id": "5480d87f",
   "metadata": {
    "slideshow": {
     "slide_type": "slide"
    }
   },
   "source": [
    "# 2. While\n",
    "Un ciclo while ejecuta instrucciones repetidamente, mientras una condición definida en el ciclo sea verdadera.\n",
    "Generalmente, la sintaxis para el ciclo while es la siguiente:"
   ]
  },
  {
   "cell_type": "code",
   "execution_count": null,
   "id": "a1b7a65d",
   "metadata": {
    "slideshow": {
     "slide_type": "fragment"
    }
   },
   "outputs": [],
   "source": [
    "i = 1 #Inicialización variable control\n",
    "while i<6: #Prueba variable control\n",
    "    print(i)\n",
    "    i=i+1 #Cambio variable control, lo mimos que i += 1\n",
    "    "
   ]
  },
  {
   "cell_type": "markdown",
   "id": "84f24358",
   "metadata": {
    "slideshow": {
     "slide_type": "subslide"
    }
   },
   "source": [
    "Ojo -> su ciclo puede quedarse ejecutando infinitamente si:\n",
    "- Su condición no puede validarse como False en algún momento.\n",
    "- No modifica la variable de control"
   ]
  },
  {
   "cell_type": "code",
   "execution_count": null,
   "id": "9734e5d4",
   "metadata": {
    "slideshow": {
     "slide_type": "fragment"
    }
   },
   "outputs": [],
   "source": [
    "i = 1 \n",
    "while i >= 0: \n",
    "    print(i)\n",
    "    i=i+1 \n",
    "    \n",
    "i = 1 \n",
    "while i < 8: \n",
    "    print(i)\n",
    "    "
   ]
  },
  {
   "cell_type": "markdown",
   "id": "a06d250e",
   "metadata": {
    "slideshow": {
     "slide_type": "subslide"
    }
   },
   "source": [
    "•\tEjercicio [CicloNumeros] \n",
    "- Programe un ciclo que imprima los números del 6 al 14"
   ]
  },
  {
   "cell_type": "code",
   "execution_count": null,
   "id": "087a2532",
   "metadata": {
    "slideshow": {
     "slide_type": "fragment"
    }
   },
   "outputs": [],
   "source": []
  },
  {
   "cell_type": "markdown",
   "id": "cb2fef9d",
   "metadata": {
    "slideshow": {
     "slide_type": "fragment"
    }
   },
   "source": [
    "•\tEjercicio [CicloPares] \n",
    "- Programe un ciclo que imprima los números pares del 2 al 20"
   ]
  },
  {
   "cell_type": "code",
   "execution_count": null,
   "id": "42c525f7",
   "metadata": {
    "slideshow": {
     "slide_type": "fragment"
    }
   },
   "outputs": [],
   "source": []
  },
  {
   "cell_type": "markdown",
   "id": "4be23e96",
   "metadata": {
    "slideshow": {
     "slide_type": "slide"
    }
   },
   "source": [
    "## While con centinela\n",
    "- En los programas anteriores, conocemos exactamente cuantas veces se ejecutará cada ciclo while. A esto se le conoce como ciclo controlado por contador.\n",
    "\n",
    "- Otra técnica común para controlar un ciclo es definir un valor especial que recogeremos del usuario. \n",
    "\n",
    "- Este valor de entrada especial, conocido como valor centinela, significará el final de la ejecución de un ciclo. \n",
    "\n",
    "- Un ciclo que utiliza un valor centinela para controlar su ejecución se denomina ciclo controlado por centinela."
   ]
  },
  {
   "cell_type": "code",
   "execution_count": null,
   "id": "311a7654",
   "metadata": {
    "slideshow": {
     "slide_type": "fragment"
    }
   },
   "outputs": [],
   "source": [
    "num = int(input(\"Ingrese un num positivo, o 0 para salir\")) #Inicialización variable control\n",
    "while num !=0: #Prueba variable control\n",
    "    print(num)\n",
    "    num = int(input(\"Ingrese un num positivo, o 0 para salir\")) #Cambio variable control, lo mimos que i += 1\n",
    "    "
   ]
  },
  {
   "cell_type": "code",
   "execution_count": null,
   "id": "02b9af76",
   "metadata": {
    "slideshow": {
     "slide_type": "fragment"
    }
   },
   "outputs": [],
   "source": [
    "while True:\n",
    "    num = int(input(\"Ingrese un num positivo, o 0 para salir\"))\n",
    "    if(num==0):\n",
    "        break;\n",
    "    else:\n",
    "        print(num)\n",
    "\n",
    "# “break”, es una palabra reservada de Python que sirve para salir de la ejecución del ciclo que la contiene\n"
   ]
  },
  {
   "cell_type": "markdown",
   "id": "0d9377a7",
   "metadata": {
    "slideshow": {
     "slide_type": "subslide"
    }
   },
   "source": [
    "•\tEjercicio [Acumulado]\n",
    "- Cree un ciclo while infinito\n",
    "- Pídale al usuario dentro del ciclo un número (int) (num1)\n",
    "- Si el usuario ingresa 0, detenga el ciclo (utilice un break).\n",
    "- Si el usuario ingresa cualquier otro número súmelo en un acumulador, y vaya mostrando el acumulado hasta el momento."
   ]
  },
  {
   "cell_type": "code",
   "execution_count": null,
   "id": "2abf01a7",
   "metadata": {
    "slideshow": {
     "slide_type": "fragment"
    }
   },
   "outputs": [],
   "source": []
  },
  {
   "cell_type": "markdown",
   "id": "7f6cb1e1",
   "metadata": {
    "slideshow": {
     "slide_type": "slide"
    }
   },
   "source": [
    "# 3. Ciclo for\n",
    "- Un bucle for se utiliza para iterar sobre una secuencia (que es una lista, una tupla, un diccionario, un conjunto o una cadena).\n",
    "\n",
    "- Con el ciclo for podemos ejecutar un conjunto de declaraciones, una vez para cada elemento de una lista, tupla, conjunto, etc.\n",
    "\n",
    "- Su función es más como un iterador a diferencia de otros lenguajes de programación, por lo que:\n",
    "\n",
    "    - Se debe declarar la variable de control, pero esta no se inicializa, ya que siempre tomará el primer valor de la secuencia.\n",
    "    - El cambio a la variable  de control lo hace el for, inicialmente tomará el primer valor de la secuencia y ejecuta las intrucciones, luego el segundo valor, y así sucesivamente\n",
    "    - La prueba en este caso la hace el for al verificar que los elemento de la secuencia recibida no se han terminado."
   ]
  },
  {
   "cell_type": "code",
   "execution_count": null,
   "id": "6b7fa830",
   "metadata": {
    "slideshow": {
     "slide_type": "fragment"
    }
   },
   "outputs": [],
   "source": [
    "texto = \"Hola luisa\"\n",
    "for x in texto: # X es la variable de control que itera por los valores de la variable texto\n",
    "    print(x)\n",
    "\n",
    " "
   ]
  },
  {
   "cell_type": "markdown",
   "id": "5583a9f3",
   "metadata": {
    "slideshow": {
     "slide_type": "slide"
    }
   },
   "source": [
    "## For con la función range\n",
    "- Tener que definir manualmente arreglos con los valores a iterar se vuelve muy tedioso.\n",
    "\n",
    "- Por lo tanto, Python provee una función que nos facilita la definición de esos valores. Esa función se llama range.\n",
    "\n",
    "- La función range(n) devuelve una secuencia de números.\n",
    "    - Por defecto, comenzará desde el número 0.\n",
    "    - Por defecto, incrementará de a 1.\n",
    "    - Y terminará antes de llegar al número n enviado (es decir, hasta n-1)."
   ]
  },
  {
   "cell_type": "code",
   "execution_count": null,
   "id": "23824993",
   "metadata": {
    "slideshow": {
     "slide_type": "fragment"
    }
   },
   "outputs": [],
   "source": [
    "for i in range(5):\n",
    "    print(i)"
   ]
  },
  {
   "cell_type": "markdown",
   "id": "b66678de",
   "metadata": {
    "slideshow": {
     "slide_type": "subslide"
    }
   },
   "source": [
    "### Variaciones de la función range\n",
    "- La función range también funciona si se le envían 2 o 3 parámetros. Veamos la documentación de la función range.\n",
    "\n",
    "- range(inicio, parada, incremento).\n",
    "    - inicio (opcional): indica el número desde el cual inicia la secuencia.\n",
    "    - parada (requerido): indica el número en el cual termina la secuencia.\n",
    "    - incremento (opcional): indica como incrementa la secuencia.\n",
    "\n",
    "- Si definimos por ejemplo range(1,7,2). Se crearía una secuencia con los números (1, 3, 5)."
   ]
  },
  {
   "cell_type": "code",
   "execution_count": null,
   "id": "ae77b464",
   "metadata": {
    "slideshow": {
     "slide_type": "fragment"
    }
   },
   "outputs": [],
   "source": [
    "for i in range(0,11,1):  #(0,11,3) (10,20,30,40) (10,0,-1)\n",
    "    print(i)"
   ]
  },
  {
   "cell_type": "markdown",
   "id": "148e62c9",
   "metadata": {
    "slideshow": {
     "slide_type": "subslide"
    }
   },
   "source": [
    "•\tEjercicio [MultiplosDe5] -> Codifique el siguiente programa:\n",
    "- Pídale al usuario un número por pantalla.\n",
    "\n",
    "- Cree un ciclo que imprima todos los múltiplos de 5, desde 5, hasta el número que ingreso el usuario.\n",
    "\n",
    "- Si el usuario ingreso el número 16. El algoritmo debería imprimir los números 5, 10 y 15."
   ]
  },
  {
   "cell_type": "code",
   "execution_count": null,
   "id": "759cc970",
   "metadata": {
    "slideshow": {
     "slide_type": "fragment"
    }
   },
   "outputs": [],
   "source": []
  },
  {
   "cell_type": "markdown",
   "id": "a3a96ad3",
   "metadata": {
    "slideshow": {
     "slide_type": "subslide"
    }
   },
   "source": [
    "### Range con len\n",
    "También podemos crear una mezcla de range con len, para recorrer los valores de un arreglo, y que la variable de control almacene la información de la “posición” actual del arreglo que esta siendo recorrido. Veamos:"
   ]
  },
  {
   "cell_type": "code",
   "execution_count": null,
   "id": "6d27dd05",
   "metadata": {
    "slideshow": {
     "slide_type": "fragment"
    }
   },
   "outputs": [],
   "source": [
    "texto = \"Hola mundo\"\n",
    "for i in range(len(texto)):\n",
    "    print(\"Posición:\",i,\"Carácter\",texto[i])"
   ]
  },
  {
   "cell_type": "markdown",
   "id": "01c9094c",
   "metadata": {
    "slideshow": {
     "slide_type": "fragment"
    }
   },
   "source": [
    "•\tEjercicio [CaracteresInversos] -> Codifique el siguiente programa:\n",
    "- Pídale al usuario un texto por pantalla.\n",
    "- Cree un ciclo for con range que lea el texto de forma inversa, es decir de derecha a izquierda.\n",
    "- Imprima la posición del carácter y el carácter.\n"
   ]
  },
  {
   "cell_type": "code",
   "execution_count": null,
   "id": "541a06ee",
   "metadata": {
    "slideshow": {
     "slide_type": "fragment"
    }
   },
   "outputs": [],
   "source": []
  },
  {
   "attachments": {},
   "cell_type": "markdown",
   "id": "59d48bf3",
   "metadata": {
    "slideshow": {
     "slide_type": "slide"
    }
   },
   "source": [
    "# 4. Ciclos Anidados\n",
    "- Tal como las estructuras de selección, las estructuras de iteración también se pueden anidar.\n",
    "- Incluso, una estructura de iteración se puede anidar dentro de una estructura de selección, y al revés. \n",
    "- Cuando se anida una estructura de iteración dentro de otra estructura de iteración, se deben considerar ciertos aspectos.\n",
    "- Veamos el siguiente ejemplo.\n"
   ]
  },
  {
   "cell_type": "markdown",
   "id": "93c3def1",
   "metadata": {
    "slideshow": {
     "slide_type": "subslide"
    }
   },
   "source": [
    "\n",
    "Nota: \n",
    "- Cada iteración debe tener su propia variable de control. Si utiliza la misma variable de control para iteraciones anidadas, lo mas probable es que termine con bucles infinitos. \n",
    "- Los ciclos anidados suelen usarse recorrer matrices donde un ciclo recorre cada fila y otro cada columna o viceversa.\n",
    "- el ciclo externo no avanza hasta que el ciclo interno termine y una vez el ciclo externo avanza un paso vuelve a esperar al interno y así sucesivamente hasta que el externo termina."
   ]
  },
  {
   "cell_type": "markdown",
   "id": "5600894c",
   "metadata": {
    "slideshow": {
     "slide_type": "fragment"
    }
   },
   "source": [
    "<img src=\"Figures/S2-CicloAnidado.png\" width=\"500\" height=\"800\">"
   ]
  },
  {
   "cell_type": "code",
   "execution_count": 14,
   "id": "324bed76",
   "metadata": {
    "slideshow": {
     "slide_type": "subslide"
    }
   },
   "outputs": [
    {
     "name": "stdout",
     "output_type": "stream",
     "text": [
      "i= 1 j= 1\n",
      "i= 1 j= 2\n",
      "i= 2 j= 1\n",
      "i= 2 j= 2\n",
      "i= 3 j= 1\n",
      "i= 3 j= 2\n",
      "Fin programa\n"
     ]
    }
   ],
   "source": [
    "i = 1                           #Inicialización variable control CICLO1\n",
    "while i<=3:                     #Prueba variable control CICLO1\n",
    "    j = 1                       #Inicialización variable control CICLO2\n",
    "    while j <=2:                #Prueba variable control CICLO2\n",
    "        print(\"i=\",i,\"j=\",j)\n",
    "        j = j+1                 #Cambio variable control CICLO2\n",
    "    i=i+1                       #Cambio variable control CICLO1\n",
    "print(\"Fin programa\")"
   ]
  },
  {
   "cell_type": "markdown",
   "id": "0ba82bd0",
   "metadata": {
    "slideshow": {
     "slide_type": "subslide"
    }
   },
   "source": [
    "•\tEjercicio [CicloAnidadoFor]\n",
    "- Codifique un ciclo anidado con for que imprima la misma información del anterior ciclo"
   ]
  },
  {
   "cell_type": "code",
   "execution_count": 15,
   "id": "9b70d1dd",
   "metadata": {
    "slideshow": {
     "slide_type": "fragment"
    }
   },
   "outputs": [
    {
     "name": "stdout",
     "output_type": "stream",
     "text": [
      "i= 1 j= 1\n",
      "i= 1 j= 2\n",
      "i= 2 j= 1\n",
      "i= 2 j= 2\n",
      "i= 3 j= 1\n",
      "i= 3 j= 2\n"
     ]
    }
   ],
   "source": [
    "for i in range(1,4):\n",
    "    for j in range(1,3):\n",
    "        print(\"i=\",i,\"j=\",j)\n",
    "        "
   ]
  },
  {
   "cell_type": "markdown",
   "id": "a052d366",
   "metadata": {
    "slideshow": {
     "slide_type": "subslide"
    }
   },
   "source": [
    "•\tEjercicio [MultiplicationTable] -> Codifique un programa que genere el siguiente resultado:\n",
    "\n",
    "<img src=\"Figures/S2-MultiplicationTable.png\" width=\"500\" height=\"800\">"
   ]
  },
  {
   "cell_type": "markdown",
   "id": "fffab3c4",
   "metadata": {
    "slideshow": {
     "slide_type": "slide"
    }
   },
   "source": [
    "# Ejercicios"
   ]
  },
  {
   "cell_type": "markdown",
   "id": "c41d70ac",
   "metadata": {
    "slideshow": {
     "slide_type": "fragment"
    }
   },
   "source": [
    "•\tEjercicio [Divisible3] -> Codifique el siguiente programa:\n",
    "- Un programa que imprima los números divisibles por 3. Iniciando desde el 3 hasta el 100."
   ]
  },
  {
   "attachments": {},
   "cell_type": "markdown",
   "id": "3ba782ad",
   "metadata": {
    "slideshow": {
     "slide_type": "fragment"
    }
   },
   "source": [
    "•\tEjercicio [Puntajes] -> Codifique el siguiente programa:\n",
    "- Pídale al usuario por pantalla un puntaje (int)\n",
    "- Vaya guardando la suma de los puntajes, la cantidad de puntajes ingresados\n",
    "- Vaya guardando el puntaje más alto\n",
    "- Si el puntaje es -1 finalice el bucle\n",
    "- Finalmente, imprima el promedio de puntajes, y el puntaje mas alto."
   ]
  }
 ],
 "metadata": {
  "celltoolbar": "Slideshow",
  "kernelspec": {
   "display_name": "Python 3",
   "language": "python",
   "name": "python3"
  },
  "language_info": {
   "codemirror_mode": {
    "name": "ipython",
    "version": 3
   },
   "file_extension": ".py",
   "mimetype": "text/x-python",
   "name": "python",
   "nbconvert_exporter": "python",
   "pygments_lexer": "ipython3",
   "version": "3.9.0"
  },
  "rise": {
   "autolaunch": true,
   "backimage": "mybackimage.png",
   "scroll": true
  }
 },
 "nbformat": 4,
 "nbformat_minor": 5
}
