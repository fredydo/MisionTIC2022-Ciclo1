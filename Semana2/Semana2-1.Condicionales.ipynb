{
 "cells": [
  {
   "cell_type": "markdown",
   "id": "62a5f2f1",
   "metadata": {
    "slideshow": {
     "slide_type": "slide"
    }
   },
   "source": [
    "# 1. Introducción\n",
    "Analicemos el siguiente código:"
   ]
  },
  {
   "cell_type": "code",
   "execution_count": null,
   "id": "3764428d",
   "metadata": {
    "slideshow": {
     "slide_type": "fragment"
    }
   },
   "outputs": [],
   "source": [
    "radio = float(input(\"Ingrese el radio: \"))\n",
    "print(radio)\n",
    "area = 3.14 * radio**2\n",
    "print(area)\n",
    "\n",
    "# ¿Qué pasa si agregó un número negativo? ¿Es correcto el resultado?"
   ]
  },
  {
   "cell_type": "markdown",
   "id": "aed7496b",
   "metadata": {
    "slideshow": {
     "slide_type": "notes"
    }
   },
   "source": [
    "- Hasta ahora hemos visto que los programas se ejecutan siguiendo un orden que definimos al codificar cada línea. En nuestro caso, el orden de ejecución arranca desde la primera línea del “IDE” en el que estamos trabajando, y continua hacia abajo.\n",
    "- Independiente de los datos que ingresemos (o que le pidamos por pantalla al usuario), el orden (flujo de control) es el mismo. \n",
    "- Esto quiere decir que no tenemos una respuesta diferente o un orden diferente cuando se ingresan diferentes entradas o valores.\n",
    "- Pero que tal si podemos definir un orden diferente, dependiendo de las entradas de los usuarios, o de los valores de ciertas variables."
   ]
  },
  {
   "cell_type": "markdown",
   "id": "d706cc44",
   "metadata": {
    "slideshow": {
     "slide_type": "subslide"
    }
   },
   "source": [
    "## Estructuras de selección o condición\n",
    "En este caso podríamos por ejemplo: (i) ejecutar el programa en un orden normal si el valor de un radio es mayor que cero, o (ii) ejecutar otro camino si el valor del radio es menor igual a cero.\n",
    "\n",
    "Para poder brindarle a nuestra código esta habilidad. Necesitamos utilizar “estructuras de selección”.\n",
    "\n",
    "<img src=\"Figures/S2-Secuencia.png\" width=\"200\" height=\"400\">"
   ]
  },
  {
   "cell_type": "markdown",
   "id": "23a54843",
   "metadata": {
    "slideshow": {
     "slide_type": "slide"
    }
   },
   "source": [
    "### 1.1 Estructura if-then\n",
    "Es la más básica de la estructuras de selección.\n",
    "\n",
    "Su funcionamiento es el siguiente:\n",
    "Si una condición particular es verdadera, entonces la porción “then” es ejecutada; de lo contrario, la porción “then” no es ejecutada.\n",
    "\n",
    "Ejemplo:\n",
    "Similar a lo lenguajes naturales donde se puede decir: ¿Es un día caluroso? Entonces, compro un helado.\n",
    "\n",
    "<img src=\"Figures/S2-EstructuraIfThen.png\" width=\"400\" height=\"600\">"
   ]
  },
  {
   "cell_type": "code",
   "execution_count": null,
   "id": "6a344b1b",
   "metadata": {
    "slideshow": {
     "slide_type": "subslide"
    }
   },
   "outputs": [],
   "source": [
    "temp = float(input(\"Ingrese la temperatura\"))\n",
    "if(temp > 27):\n",
    "    print(\"Comprar helado\")\n",
    "print(\"Fin programa\")\n"
   ]
  },
  {
   "cell_type": "markdown",
   "id": "260286df",
   "metadata": {
    "slideshow": {
     "slide_type": "fragment"
    }
   },
   "source": [
    "•\tEjercicio [CondicionalBasico]\n",
    "\n",
    "Modifique el programa anterior: Ahora, cuando la temperatura sea mayor a 30, se mostrará el mensaje “Comprar helado” y otro mensaje que diga “Comprar limonada”."
   ]
  },
  {
   "cell_type": "markdown",
   "id": "a9509bf7",
   "metadata": {
    "slideshow": {
     "slide_type": "fragment"
    }
   },
   "source": [
    "•\tEjercicio [CondicionalBasico2]\n",
    "\n",
    "Cree un programa donde solicite un número al usuario, si el número es par, se mostrará el mensaje \"El número ingresado es par\", al final del programa siempre debe imprimir \"Sigo ejecutando instrucciones\""
   ]
  },
  {
   "cell_type": "code",
   "execution_count": null,
   "id": "2449963d",
   "metadata": {
    "slideshow": {
     "slide_type": "fragment"
    }
   },
   "outputs": [],
   "source": []
  },
  {
   "cell_type": "markdown",
   "id": "c8e99532",
   "metadata": {
    "slideshow": {
     "slide_type": "slide"
    }
   },
   "source": [
    "### 1.2 Estructura if-then-else\n",
    "- La estructura If-then es muy necesaria para lograr cambiar el control de flujo de un programa (ofrecer varios caminos). Sin embargo, que pasa si se requiere que el programa deba hacer el algo en ambas alternativas: caso verdadero y caso falso. \n",
    "- La sección “else” (en caso contrario) es una sección opcional que se puede añadir a la estructura “if-then”. Las instrucciones de esta sección se ejecutarán SOLO SI todas las condiciones anteriores se evaluaron como falsas.\n",
    "\n",
    "Ejemplo: si el total de créditos aprobados es mayor o igual a 120 la persona se gradúa; en caso contrario no se gradúa.\n",
    "\n",
    "<img src=\"Figures/S2-EstructuraIfThenElse.png\" width=\"400\" height=\"600\">"
   ]
  },
  {
   "cell_type": "code",
   "execution_count": null,
   "id": "b153d939",
   "metadata": {
    "slideshow": {
     "slide_type": "fragment"
    }
   },
   "outputs": [],
   "source": [
    "creditos = int(input(\"Ingrese los créditos aprobados\"))\n",
    "if(creditos >= 120):\n",
    "    print(\"Se gradúa\")\n",
    "else:\n",
    "    print(\"No se gradua\")\n",
    "print(\"Fin programa\")"
   ]
  },
  {
   "cell_type": "code",
   "execution_count": 3,
   "id": "fe9fb9ee",
   "metadata": {},
   "outputs": [
    {
     "name": "stdout",
     "output_type": "stream",
     "text": [
      "Falso\n",
      "Falso\n"
     ]
    }
   ],
   "source": [
    "texto2= \"\"\n",
    "if texto2:\n",
    "    print(\"Verdadera\")\n",
    "else:\n",
    "    print(\"Falso\")\n",
    "    \n",
    "#Forma simplificada    \n",
    "print(\"Verdadera\") if texto2 else print(\"Falso\") #Operador ternario"
   ]
  },
  {
   "cell_type": "markdown",
   "id": "d7873fed",
   "metadata": {
    "slideshow": {
     "slide_type": "subslide"
    }
   },
   "source": [
    "•\tEjercicio [if.then-else] -> Codifique el siguiente programa:\n",
    "- El programa pedirá al usuario el genero (string)\n",
    "- Si el genero es “masculino” imprimirá “Bienvenido al grupo”\n",
    "- En caso contrario imprimirá “Bienvenida al grupo”\n",
    "- En ambos casos al final, imprimirá “Bienvenidos a la U”"
   ]
  },
  {
   "cell_type": "code",
   "execution_count": null,
   "id": "95dbdea0",
   "metadata": {
    "slideshow": {
     "slide_type": "fragment"
    }
   },
   "outputs": [],
   "source": []
  },
  {
   "cell_type": "markdown",
   "id": "ccee610d",
   "metadata": {
    "slideshow": {
     "slide_type": "fragment"
    }
   },
   "source": [
    "•\tEjercicio [Area-cuadrado] -> Codifique el siguiente programa:\n",
    "- El programa pedirá al usuario un lado de un cuadrado (int)\n",
    "- Si el lado es mayor a 0:\n",
    "    - Calculará el área \n",
    "    - Imprimirá “El área del cuadrado es: ” + area.\n",
    "- En caso contrario imprimirá “¿De qué me hablas viejo?”\n",
    "- En ambos casos al final, imprimirá “Fin programa”\n"
   ]
  },
  {
   "cell_type": "code",
   "execution_count": null,
   "id": "0a0965a3",
   "metadata": {
    "slideshow": {
     "slide_type": "fragment"
    }
   },
   "outputs": [],
   "source": []
  },
  {
   "cell_type": "markdown",
   "id": "fb37b05b",
   "metadata": {
    "slideshow": {
     "slide_type": "slide"
    }
   },
   "source": [
    "### 1.3 Estructura if-then-else if-..... ó Elif\n",
    "- La estructura If-then-else if-… nos permite ofrecer múltiples caminos dependiendo de múltiples comprobaciones. \n",
    "- El else if sirve para añadir una nueva condición en caso de que la condición anterior no se cumpla (sea falsa).\n",
    "- Una instrucción if puede incluir cualquier número de bloques else if. “else if” significa (de lo contrario, si …). \n",
    "- Como máximo, se ejecuta un solo else if, y ese else if se ejecutará solo si todas las condiciones anteriores se evaluaron como falsas.\n",
    "\n",
    "Ejemplo: si la temperatura es mayor a 27 compramos helado; de lo contrario, si la temperatura es mayor a 24 compramos gaseosa; en caso contrario, compramos leche."
   ]
  },
  {
   "cell_type": "markdown",
   "id": "15f58554",
   "metadata": {
    "slideshow": {
     "slide_type": "fragment"
    }
   },
   "source": [
    "<img src=\"Figures/S2-Elif.png\" width=\"400\" height=\"600\">"
   ]
  },
  {
   "cell_type": "code",
   "execution_count": null,
   "id": "054e1276",
   "metadata": {
    "slideshow": {
     "slide_type": "subslide"
    }
   },
   "outputs": [],
   "source": [
    "temp = float(input(\"Ingrese la temperatura\"))\n",
    "if(temp > 27):\n",
    "    print(\"Comprar helado\")\n",
    "print(\"Fin programa\")"
   ]
  },
  {
   "cell_type": "code",
   "execution_count": null,
   "id": "5e363bd6",
   "metadata": {
    "slideshow": {
     "slide_type": "fragment"
    }
   },
   "outputs": [],
   "source": [
    "temp = float(input(\"Ingrese la temperatura\"))\n",
    "if(temp > 27):\n",
    "    print(\"Comprar helado\")\n",
    "elif(temp > 24):\n",
    "    print(\"Comprar gaseosa\")\n",
    "else:\n",
    "    print(\"Comprar leche\")   \n",
    "print(\"Fin programa\")"
   ]
  },
  {
   "cell_type": "markdown",
   "id": "04407921",
   "metadata": {
    "slideshow": {
     "slide_type": "subslide"
    }
   },
   "source": [
    "¿Cuál seria la salida por pantalla si ingresamos: (i) 2  (ii) 4 y (iii) 1?"
   ]
  },
  {
   "cell_type": "code",
   "execution_count": null,
   "id": "973e4d7a",
   "metadata": {
    "slideshow": {
     "slide_type": "fragment"
    }
   },
   "outputs": [],
   "source": [
    "nota = int(input(\"Ingrese la nota\"))\n",
    "if(nota > 4):\n",
    "    print(\":)\")\n",
    "elif(nota < 3):\n",
    "    print(\":(\")\n",
    "elif(nota == 2):\n",
    "    print(\":|\")    \n",
    "else:\n",
    "    print(\":O\")   \n",
    "print(\"Fin programa\")"
   ]
  },
  {
   "cell_type": "markdown",
   "id": "67099a49",
   "metadata": {
    "slideshow": {
     "slide_type": "subslide"
    }
   },
   "source": [
    "•\tEjercicio [Elif] -> Codifique el siguiente programa utilizando elif:\n",
    "\n",
    "<img src=\"Figures/S2-ElifEjercicio.png\" width=\"500\" height=\"800\">"
   ]
  },
  {
   "cell_type": "code",
   "execution_count": null,
   "id": "f04afc81",
   "metadata": {
    "slideshow": {
     "slide_type": "fragment"
    }
   },
   "outputs": [],
   "source": []
  },
  {
   "cell_type": "markdown",
   "id": "cb30f515",
   "metadata": {
    "slideshow": {
     "slide_type": "slide"
    }
   },
   "source": [
    "### 1.4 If anidados\n",
    "También es posible contener ifs, dentro de otros ifs. Veamos el siguiente ejemplo."
   ]
  },
  {
   "cell_type": "markdown",
   "id": "db948fd3",
   "metadata": {
    "slideshow": {
     "slide_type": "fragment"
    }
   },
   "source": [
    "<img src=\"Figures/AnidadoTempDinero.png\" width=\"700\" height=\"1000\">"
   ]
  },
  {
   "cell_type": "code",
   "execution_count": null,
   "id": "02d4086e",
   "metadata": {
    "slideshow": {
     "slide_type": "fragment"
    }
   },
   "outputs": [],
   "source": [
    "temp = float(input(\"Ingrese la temperatura\"))\n",
    "if(temp > 27):\n",
    "    if(dinero > 5)\n",
    "        print(\"Comprar helado\")\n",
    "print(\"Fin programa\")\n",
    "\n",
    "#Con cuál operador lógico podría simplificar esto?"
   ]
  },
  {
   "cell_type": "markdown",
   "id": "e82ce660",
   "metadata": {
    "slideshow": {
     "slide_type": "subslide"
    }
   },
   "source": [
    "<img src=\"Figures/NoAnidadoTempDinero.png\" width=\"500\" height=\"800\">"
   ]
  },
  {
   "cell_type": "code",
   "execution_count": null,
   "id": "4cee41cf",
   "metadata": {
    "slideshow": {
     "slide_type": "fragment"
    }
   },
   "outputs": [],
   "source": [
    "temp = float(input(\"Ingrese la temperatura\"))\n",
    "if((temp > 27) and (dinero > 5)):\n",
    "        print(\"Comprar helado\")\n",
    "print(\"Fin programa\")"
   ]
  },
  {
   "cell_type": "markdown",
   "id": "fffab3c4",
   "metadata": {
    "slideshow": {
     "slide_type": "slide"
    }
   },
   "source": [
    "# Ejercicios"
   ]
  },
  {
   "cell_type": "markdown",
   "id": "c41d70ac",
   "metadata": {
    "slideshow": {
     "slide_type": "fragment"
    }
   },
   "source": [
    "•\tEjercicio [EdadPermitida] -> Codifique el siguiente programa:\n",
    "- El programa pedirá al usuario la edad (int)\n",
    "- El programa validará que la edad sea mayor o igual a 18 \n",
    "- Si la edad es mayor o igual a 18 el programa imprimirá “bienvenido a la fiesta!"
   ]
  },
  {
   "cell_type": "markdown",
   "id": "1d5ab2ce",
   "metadata": {
    "slideshow": {
     "slide_type": "fragment"
    }
   },
   "source": [
    "•\tEjercicio [ComparandoAños] -> Codifique el siguiente programa:\n",
    "- Pídale al usuario el año en el que estamos (int – fecha1).\n",
    "- Pídale al usuario otro año cualquiera (puede ser futuro, pasado o el mismo año) (int – fecha2).\n",
    "- Si la fecha1 es mayor que la fecha2 imprima:\n",
    "    - Desde el año {fecha2} han pasado {fecha2-fecha1} años.\n",
    "- Si la fecha1 es menor que la fecha2 imprima:\n",
    "    - Para llegar al año {fecha2} faltan {fecha2-fecha1} años.\n",
    "- De lo contrario imprima:\n",
    "    - Son el mismo año."
   ]
  },
  {
   "cell_type": "markdown",
   "id": "0036bd8b",
   "metadata": {
    "slideshow": {
     "slide_type": "subslide"
    }
   },
   "source": [
    "•\tEjercicio [Loteria] -> Codifique el siguiente programa:\n",
    "- Cree un programa, que tenga dos dígitos guardados,  decenas y unidades, por ejemplo 54,  int decenas = 5 y int unidades = 4.\n",
    "- Por medio de la consola solicite al usuario que ingrese el número de la lotería (dos dígitos).\n",
    "- Si los números coinciden en el orden exacto imprima “Coincidencia exacta gano 10.000”.\n",
    "- Si los números coinciden pero están inversos, imprima “Coinciden los dígitos, pero no en el orden exacto, gano 3.000”.\n",
    "- Si uno de los dígitos coincide sin importar el orden, imprima “Coincidencia de un dígito, gano 1.000”\n",
    "- Si ninguno coincide, imprima “Lo siento, no hay coincidencias”"
   ]
  }
 ],
 "metadata": {
  "celltoolbar": "Slideshow",
  "kernelspec": {
   "display_name": "Python 3",
   "language": "python",
   "name": "python3"
  },
  "language_info": {
   "codemirror_mode": {
    "name": "ipython",
    "version": 3
   },
   "file_extension": ".py",
   "mimetype": "text/x-python",
   "name": "python",
   "nbconvert_exporter": "python",
   "pygments_lexer": "ipython3",
   "version": "3.9.0"
  },
  "rise": {
   "autolaunch": true,
   "backimage": "mybackimage.png",
   "scroll": true
  }
 },
 "nbformat": 4,
 "nbformat_minor": 5
}
