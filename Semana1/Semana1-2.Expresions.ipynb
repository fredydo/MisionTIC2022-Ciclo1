{
 "cells": [
  {
   "cell_type": "markdown",
   "id": "62a5f2f1",
   "metadata": {
    "slideshow": {
     "slide_type": "slide"
    }
   },
   "source": [
    "# 1. Expresiones"
   ]
  },
  {
   "cell_type": "code",
   "execution_count": null,
   "id": "6a344b1b",
   "metadata": {
    "slideshow": {
     "slide_type": "fragment"
    }
   },
   "outputs": [],
   "source": [
    "a = 3.14 #Constante\n",
    "b = 675 #Constante\n",
    "h = b #Variable  \n",
    "c = -.385E+57 #Expresión aritmética\n",
    "d = a + b * c #Expresión aritmética\n",
    "e = 5 > 2 #Expresión lógica\n",
    "f = \"Hola mundo\" #Mensaje\n",
    "g = True #Valor lógico"
   ]
  },
  {
   "cell_type": "markdown",
   "id": "52296577",
   "metadata": {
    "slideshow": {
     "slide_type": "slide"
    }
   },
   "source": [
    "## 1.1 Expresiones Aritméticas\n",
    "Las expresiones aritméticas implican el uso de operadores (suma , resta, ...) y operandos (variables).\n",
    "\n",
    "Prioridades (Orden en el cual se ejecutan operaciones consecutivas con diferentes operadores)\n",
    "- Primero se ejecutan las operaciones de potenciación\n",
    "- Luego las operaciones de multiplicación, división y módulo\n",
    "- Por último, las operaciones de suma y resta\n",
    "\n",
    "Asociatividades (Orden en el cual se ejecutan operaciones consecutivas con operadores de la misma prioridad)\n",
    "- La potenciación es asociativa por la derecha\n",
    "- Las demás operaciones son asociativas por la izquierda"
   ]
  },
  {
   "cell_type": "markdown",
   "id": "31651492",
   "metadata": {
    "slideshow": {
     "slide_type": "subslide"
    }
   },
   "source": [
    "Operadores usados en Python:\n",
    "\n",
    "|Operador||Objetivo|\n",
    "| --- || --- |\n",
    "|+||para la suma|\n",
    "|-||para la resta|\n",
    "|*||para la multiplicación|\n",
    "|/||para la división (cociente real)|\n",
    "|//||para la división (cociente entero)|\n",
    "|%||para el módulo (residuo de división entera)|\n",
    "|**||para la potenciación|"
   ]
  },
  {
   "cell_type": "code",
   "execution_count": null,
   "id": "3e0fd45f",
   "metadata": {
    "slideshow": {
     "slide_type": "subslide"
    }
   },
   "outputs": [],
   "source": [
    "a = 5\n",
    "b = 3\n",
    "c = 8\n",
    "d = 4\n",
    "e = 2\n",
    "print(c % a) \n",
    "print(c % d)\n",
    "print(c // a) \n",
    "print(c // d)"
   ]
  },
  {
   "cell_type": "code",
   "execution_count": null,
   "id": "35001e3d",
   "metadata": {
    "scrolled": true,
    "slideshow": {
     "slide_type": "subslide"
    }
   },
   "outputs": [],
   "source": [
    "a = 5\n",
    "b = 3\n",
    "c = 8\n",
    "d = 4\n",
    "e = 2\n",
    "print(a + b * c) #se evalúa: 5 + 24 = 29\n",
    "print((a + b) * c) #se evalúa: 8 * 8 = 64\n",
    "print(a / e * c) #se evalúa: 2.5 * 8 = 20.0\n",
    "print(a / (e * c)) #se evalúa: 5 / 16 = 0.3125\n",
    "print(a // e * c) #se evalúa: 2 * 8 = 16\n",
    "print(a // (e * c)) #se evalúa: 5 / 16 = 0\n",
    "print(c / d / e) #se evalúa: 2 / 2 = 1\n",
    "print(c / (d / e)) #se evalúa: 8 / 2 = 4\n",
    "print(c / d * e) #se evalúa: 2 * 2 = 4\n",
    "print(c / (d * e)) #se evalúa: 8 / 8 = 1"
   ]
  },
  {
   "cell_type": "markdown",
   "id": "bd7e3999",
   "metadata": {
    "slideshow": {
     "slide_type": "subslide"
    }
   },
   "source": [
    "Ejercicio [Expresion2]\n",
    "- Dada la expresión algebraica, escribala en lenguaje de programación\n",
    "\n",
    "$ \\frac{a}{b*c} $"
   ]
  },
  {
   "cell_type": "code",
   "execution_count": null,
   "id": "fee9bddd",
   "metadata": {
    "slideshow": {
     "slide_type": "fragment"
    }
   },
   "outputs": [],
   "source": []
  },
  {
   "cell_type": "markdown",
   "id": "e2ddf1e0",
   "metadata": {
    "slideshow": {
     "slide_type": "subslide"
    }
   },
   "source": [
    "Ejercicio [Expresion3]\n",
    "- Dada la expresión algebraica, escribala en lenguaje de programación\n",
    "\n",
    "$ a - \\frac{b}{c}\\, + \\frac{b - \\frac{c}{d}}{e} $\n"
   ]
  },
  {
   "cell_type": "code",
   "execution_count": null,
   "id": "273658e0",
   "metadata": {
    "slideshow": {
     "slide_type": "fragment"
    }
   },
   "outputs": [],
   "source": []
  },
  {
   "cell_type": "markdown",
   "id": "b5d9d54a",
   "metadata": {
    "slideshow": {
     "slide_type": "subslide"
    }
   },
   "source": [
    "Ejercicio [Expresion4]\n",
    "- Dada la expresión algebraica, escribala en lenguaje de programación\n",
    "\n",
    "$ \\frac{a + b * c}{(d-e)^b} $"
   ]
  },
  {
   "cell_type": "code",
   "execution_count": null,
   "id": "ed93e326",
   "metadata": {
    "slideshow": {
     "slide_type": "fragment"
    }
   },
   "outputs": [],
   "source": []
  },
  {
   "cell_type": "markdown",
   "id": "d275a4b4",
   "metadata": {
    "slideshow": {
     "slide_type": "slide"
    }
   },
   "source": [
    "## 1.2 Expresiones relacionales y lógicas\n",
    "Expresiones en donde se realiza una comparación. El valor a retornar será verdadero o falso."
   ]
  },
  {
   "cell_type": "markdown",
   "id": "6fa549e5",
   "metadata": {
    "slideshow": {
     "slide_type": "subslide"
    }
   },
   "source": [
    "#### Operadores de comparación (o relacionales) usados en los lenguajes de programación:\n",
    "En general los lenguajes de programaciónproporcionan seis operadores de comparación (también conocidos como operadores de relación). Veamos la siguiente tabla y encontremos el resultado suponiendo que el valor de la variable “radio” es igual a 5. \n",
    "\n",
    "|Operador||Nombre|| Ejemplo  |\n",
    "| --- || --- || --- |\n",
    "|>||mayor que|| radio > 0  |\n",
    "|>=||mayor o igual que|| radio >= 0 |\n",
    "|<||menor que|| radio < 0 |\n",
    "|<=||menor o igual que|| radio <= 0  |\n",
    "|==||igual|| radio == 0 |\n",
    "|!=||diferente||  radio != 0 |\n",
    "\n"
   ]
  },
  {
   "cell_type": "code",
   "execution_count": null,
   "id": "00791b40",
   "metadata": {
    "slideshow": {
     "slide_type": "fragment"
    }
   },
   "outputs": [],
   "source": [
    "radio = 5\n",
    "print(radio > 0)\n",
    "print(radio >= 0)\n",
    "print(radio < 0)\n",
    "print(radio <= 0)\n",
    "print(radio == 0)\n",
    "print( radio != 0)"
   ]
  },
  {
   "cell_type": "markdown",
   "id": "c50ccad5",
   "metadata": {
    "slideshow": {
     "slide_type": "subslide"
    }
   },
   "source": [
    "Ejercicio [ComparacionVariables] ->\n",
    "\n",
    "Analize las siguientes comparaciones, luego codifiquelas.\n",
    "\n",
    "x = 9, y = 5, z = 10\n",
    "\n",
    "x == y \n",
    "\n",
    "x > y \n",
    "\n",
    "x == z \n",
    "\n",
    "z < x \n",
    "\n",
    "x != x \n",
    "\n",
    "x >= y \n",
    "\n"
   ]
  },
  {
   "cell_type": "code",
   "execution_count": null,
   "id": "ffe8b30a",
   "metadata": {
    "slideshow": {
     "slide_type": "fragment"
    }
   },
   "outputs": [],
   "source": []
  },
  {
   "cell_type": "markdown",
   "id": "59d82892",
   "metadata": {
    "slideshow": {
     "slide_type": "subslide"
    }
   },
   "source": [
    "#### Operadores lógicos usados en los lenguajes de programación:\n",
    "Los operadores lógicos son usados para operaciones de álgebra Booleana, es decir, para describir relaciones lógicas, expresadas como verdadero (True) o falso (False).\n",
    "\n",
    "\n",
    "|Operador||Nombre|\n",
    "| --- || --- |\n",
    "|&&||and|\n",
    "| &#124; &#124; || or |\n",
    "|!||not|\n"
   ]
  },
  {
   "cell_type": "markdown",
   "id": "2dcbbdd7",
   "metadata": {
    "slideshow": {
     "slide_type": "fragment"
    }
   },
   "source": [
    "Tablas de verdad\n",
    "\n",
    "|p1||p2|| p1 && p2  |\n",
    "| --- || --- || --- |\n",
    "|F||F|| F  |\n",
    "|F||V|| F|\n",
    "|V||F|| F|\n",
    "|V||V|| V |\n",
    "\n",
    "|p1||p2|| p1  &#124; &#124; p2  |\n",
    "| --- || --- || --- |\n",
    "|F||F|| F  |\n",
    "|F||V|| V|\n",
    "|V||F|| V|\n",
    "|V||V|| V |\n",
    "\n",
    "|p||!p|\n",
    "| --- || --- |\n",
    "|F||V|\n",
    "|V||F|\n"
   ]
  },
  {
   "cell_type": "code",
   "execution_count": null,
   "id": "95620b66",
   "metadata": {
    "slideshow": {
     "slide_type": "subslide"
    }
   },
   "outputs": [],
   "source": [
    "#Analize las siguientes comparaciones:\n",
    "a = 16; b = True; c = 4; d = 8; e = 5\n",
    "print(a > c and e <=d)\n",
    "print(b or (d - e) > a / c)\n",
    "print(not b)\n",
    "print(not b and c < d or a/d <= e)"
   ]
  },
  {
   "cell_type": "code",
   "execution_count": null,
   "id": "faf0ab4e",
   "metadata": {},
   "outputs": [],
   "source": []
  }
 ],
 "metadata": {
  "celltoolbar": "Slideshow",
  "kernelspec": {
   "display_name": "Python 3",
   "language": "python",
   "name": "python3"
  },
  "language_info": {
   "codemirror_mode": {
    "name": "ipython",
    "version": 3
   },
   "file_extension": ".py",
   "mimetype": "text/x-python",
   "name": "python",
   "nbconvert_exporter": "python",
   "pygments_lexer": "ipython3",
   "version": "3.9.0"
  },
  "rise": {
   "autolaunch": true,
   "backimage": "mybackimage.png",
   "scroll": true
  }
 },
 "nbformat": 4,
 "nbformat_minor": 5
}
