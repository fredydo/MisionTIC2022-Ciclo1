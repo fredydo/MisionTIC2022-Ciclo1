{
 "cells": [
  {
   "cell_type": "markdown",
   "id": "03ada7b3",
   "metadata": {
    "slideshow": {
     "slide_type": "slide"
    }
   },
   "source": [
    "# 1. Introducción a Python"
   ]
  },
  {
   "cell_type": "markdown",
   "id": "0130bc5b",
   "metadata": {
    "slideshow": {
     "slide_type": "fragment"
    }
   },
   "source": [
    "Python es un lenguaje de escritura rápido, escalable, robusto y de código abierto, ventajas que hacen de Python un aliado perfecto para la Inteligencia Artificial.\n",
    "\n",
    "Ahora algo de sintaxis clave en el lenguaje python:\n",
    "- Python fue diseñado para facilitar la lectura y tiene algunas similitudes con el idioma inglés con influencia de las matemáticas.\n",
    "- Python usa nuevas líneas para completar un comando, a diferencia de otros lenguajes de programación que a menudo usan punto y coma o paréntesis. Ejm:\n",
    "    - Java: System.out.println(\"Hola mundo\")**;**\n",
    "    - Python: print(\"Hola mundo\")    \n",
    "- Python se basa en la indentación, usando espacios en blanco, para definir el alcance; como el alcance de los bucles, funciones y clases. Otros lenguajes de programación a menudo usan corchetes para este propósito."
   ]
  },
  {
   "cell_type": "markdown",
   "id": "6b31b65b",
   "metadata": {
    "slideshow": {
     "slide_type": "subslide"
    }
   },
   "source": [
    "### Comentarios\n",
    "Un comentario en programación es la línea de texto en nuestro código fuente que el compilador ignora. Sirve para:\n",
    "- Anular código\n",
    "- Colocar aclaraciones"
   ]
  },
  {
   "cell_type": "code",
   "execution_count": null,
   "id": "1eae2d79",
   "metadata": {
    "scrolled": true,
    "slideshow": {
     "slide_type": "fragment"
    }
   },
   "outputs": [],
   "source": [
    "#Este programa sirve para imprimir un mensaje\n",
    "print(\"Aprendamos a imprimir mensajes en Python\")\n",
    "#print(\"Aprendamos a imprimir mensajes en Java\")\n",
    "print(\"HOLAAAA\")"
   ]
  },
  {
   "cell_type": "markdown",
   "id": "1f24ec86",
   "metadata": {
    "slideshow": {
     "slide_type": "subslide"
    }
   },
   "source": [
    "### Indentación\n",
    "Python utiliza la indentación para delimitar la estructura permitiendo establecer bloques de código."
   ]
  },
  {
   "cell_type": "code",
   "execution_count": null,
   "id": "31bd70b1",
   "metadata": {
    "slideshow": {
     "slide_type": "fragment"
    }
   },
   "outputs": [],
   "source": [
    "if 5 > 2:\n",
    "  print(\"Hola!\")"
   ]
  },
  {
   "cell_type": "code",
   "execution_count": null,
   "id": "22bf7877",
   "metadata": {
    "slideshow": {
     "slide_type": "fragment"
    }
   },
   "outputs": [],
   "source": [
    "if 5 > 2:\n",
    "print(\"Hola!\") # Error al saltarse la indentación"
   ]
  },
  {
   "cell_type": "code",
   "execution_count": null,
   "id": "5cbafd5f",
   "metadata": {
    "slideshow": {
     "slide_type": "fragment"
    }
   },
   "outputs": [],
   "source": [
    "if 5 > 2:\n",
    " print(\"Hola!\")\n",
    "        print(\"Hola!\") #Error el número de espacios no es el mismo"
   ]
  },
  {
   "cell_type": "markdown",
   "id": "babfa0b7",
   "metadata": {
    "slideshow": {
     "slide_type": "slide"
    }
   },
   "source": [
    "# 2. Impresiones en Python"
   ]
  },
  {
   "cell_type": "markdown",
   "id": "c3df5397",
   "metadata": {
    "slideshow": {
     "slide_type": "fragment"
    }
   },
   "source": [
    "La función print() imprime el objeto dado en el dispositivo de salida."
   ]
  },
  {
   "cell_type": "code",
   "execution_count": null,
   "id": "23928e0f",
   "metadata": {
    "slideshow": {
     "slide_type": "fragment"
    }
   },
   "outputs": [],
   "source": [
    "print(\"Aprendamos a imprimir mensajes con Python\")"
   ]
  },
  {
   "cell_type": "markdown",
   "id": "14d32b56",
   "metadata": {
    "slideshow": {
     "slide_type": "fragment"
    }
   },
   "source": [
    "Ejercicio [ImprimiendoMensajes] ->\n",
    "En su ambiente, imprima 3 mensajes diferentes."
   ]
  },
  {
   "cell_type": "code",
   "execution_count": null,
   "id": "256094b1",
   "metadata": {
    "slideshow": {
     "slide_type": "fragment"
    }
   },
   "outputs": [],
   "source": []
  },
  {
   "cell_type": "markdown",
   "id": "b99f8cf2",
   "metadata": {
    "slideshow": {
     "slide_type": "subslide"
    }
   },
   "source": [
    "#### Se pueden usar comillas simples, dobles y hasta triples para representar strings."
   ]
  },
  {
   "cell_type": "code",
   "execution_count": null,
   "id": "a2a3dc52",
   "metadata": {
    "scrolled": true,
    "slideshow": {
     "slide_type": "fragment"
    }
   },
   "outputs": [],
   "source": [
    "print('Texto con comillas simples')\n",
    "print(\"Texto con comillas dobles\")\n",
    "print(\"\"\"Texto con comillas triples\"\"\")"
   ]
  },
  {
   "cell_type": "markdown",
   "id": "d93e88ca",
   "metadata": {
    "slideshow": {
     "slide_type": "subslide"
    }
   },
   "source": [
    "#### Para separar dos declaraciones ejecutables separadas en una sola línea, debe usar un punto y coma (;) para separar los comandos."
   ]
  },
  {
   "cell_type": "code",
   "execution_count": null,
   "id": "2e2bb385",
   "metadata": {
    "slideshow": {
     "slide_type": "fragment"
    }
   },
   "outputs": [],
   "source": [
    "print (\"Primera Linea\"); print (\"Segunda Linea\")"
   ]
  },
  {
   "cell_type": "markdown",
   "id": "c68c35af",
   "metadata": {
    "slideshow": {
     "slide_type": "fragment"
    }
   },
   "source": [
    "#### Se pueden enviar varios objetos con el uso de (,)"
   ]
  },
  {
   "cell_type": "code",
   "execution_count": null,
   "id": "20e3d93a",
   "metadata": {
    "slideshow": {
     "slide_type": "fragment"
    }
   },
   "outputs": [],
   "source": [
    "print(4)\n",
    "print(\"Hola\",\"mundo\")\n",
    "print(\"Hola\" +   \"mundo\")\n",
    "print(\"Hola\",1,3)\n",
    "print(5+6)"
   ]
  },
  {
   "cell_type": "code",
   "execution_count": null,
   "id": "7239d2d7",
   "metadata": {},
   "outputs": [],
   "source": []
  },
  {
   "cell_type": "markdown",
   "id": "e1e85e4e",
   "metadata": {
    "slideshow": {
     "slide_type": "fragment"
    }
   },
   "source": [
    "Ejercicio [ImprimiendoMensajes] -> En su ambiente, separe las palabras con el uso de comas."
   ]
  },
  {
   "cell_type": "code",
   "execution_count": null,
   "id": "c85b05ae",
   "metadata": {
    "slideshow": {
     "slide_type": "fragment"
    }
   },
   "outputs": [],
   "source": [
    "print( \"Hola\", \"luisa\", \"Hola\" )"
   ]
  },
  {
   "cell_type": "markdown",
   "id": "e9f55789",
   "metadata": {
    "slideshow": {
     "slide_type": "subslide"
    }
   },
   "source": [
    "#### Parámetros sep y end pueden cambiar la forma en que se imprimen los contenidos\n",
    "##### Parámetro end\n",
    "Los mensajes impresos siempre culminan en un salto de línea (\\n). Cambiamos este comportamiento indicando un valor alternativo vía el parámetro `end`."
   ]
  },
  {
   "cell_type": "code",
   "execution_count": null,
   "id": "42450bc9",
   "metadata": {
    "slideshow": {
     "slide_type": "fragment"
    }
   },
   "outputs": [],
   "source": [
    "print(\"Hola\")\n",
    "print(\"mundo\")\n",
    "\n",
    "print(\"Hola\", end=\" \")\n",
    "print(\"mundo\")\n",
    "\n",
    "print(\"Hola\", end=\"**\")\n",
    "print(\"mundo\")"
   ]
  },
  {
   "cell_type": "markdown",
   "id": "3fdbdc52",
   "metadata": {
    "slideshow": {
     "slide_type": "subslide"
    }
   },
   "source": [
    "##### Parámetro Sep\n",
    "Los mensajes impresos por defecto son separados por un espacio(' '). Cambiamos este comportamiento indicando un valor alternativo vía el parámetro `sep`."
   ]
  },
  {
   "cell_type": "code",
   "execution_count": null,
   "id": "60c333d4",
   "metadata": {
    "slideshow": {
     "slide_type": "fragment"
    }
   },
   "outputs": [],
   "source": [
    "print(\"Hola\",\"mundo\", \"!\", sep=\"\", end=\"-\")\n",
    "print(\"Hola\",\"mundo\", \"!\", sep=\",\")\n",
    "print(\"Hola\",\"mundo\", \"!\", sep=\"**\")\n",
    "print(\"Hola\",\"\\nmundo\", \"!\", sep=\", \")"
   ]
  },
  {
   "cell_type": "markdown",
   "id": "d64921b3",
   "metadata": {
    "slideshow": {
     "slide_type": "subslide"
    }
   },
   "source": [
    "Ejercicio [ImprimiendoMensajes] -> Modifique la separación de sus palabras por un &"
   ]
  },
  {
   "cell_type": "code",
   "execution_count": null,
   "id": "3f4bdef5",
   "metadata": {
    "slideshow": {
     "slide_type": "fragment"
    }
   },
   "outputs": [],
   "source": [
    "print(\"Hola\", \"luisa\", \"Hola\", sep= \"&\")"
   ]
  },
  {
   "cell_type": "markdown",
   "id": "ed9dabf6",
   "metadata": {
    "slideshow": {
     "slide_type": "subslide"
    }
   },
   "source": [
    "## Impresión de variables"
   ]
  },
  {
   "cell_type": "code",
   "execution_count": null,
   "id": "73f06842",
   "metadata": {
    "slideshow": {
     "slide_type": "fragment"
    }
   },
   "outputs": [],
   "source": [
    "a = 7+5\n",
    "print(a)\n",
    "print(7+5)\n",
    "print('Esto es un texto literal',a)"
   ]
  },
  {
   "cell_type": "code",
   "execution_count": null,
   "id": "a7091774",
   "metadata": {
    "slideshow": {
     "slide_type": "fragment"
    }
   },
   "outputs": [],
   "source": [
    "a = 8\n",
    "b = \"Total = \"\n",
    "#print(b+a) #Error, tipos incompatibles\n",
    "print(b,a)"
   ]
  },
  {
   "cell_type": "markdown",
   "id": "3e0bd24b",
   "metadata": {
    "slideshow": {
     "slide_type": "subslide"
    }
   },
   "source": [
    "#### Impresión de variables con f-string\n",
    "La interpolación de cadenas es un proceso de sustitución de los marcadores de posición por los valores de una cadena literal."
   ]
  },
  {
   "cell_type": "code",
   "execution_count": null,
   "id": "6964699c",
   "metadata": {
    "slideshow": {
     "slide_type": "fragment"
    }
   },
   "outputs": [],
   "source": [
    "a = 7\n",
    "b = 5\n",
    "titulo = \"Total= \"\n",
    "print(f\"{titulo} 7+5\")\n",
    "print(f\" 7+5 = {a+b}\")"
   ]
  },
  {
   "cell_type": "markdown",
   "id": "3ded2da2",
   "metadata": {
    "slideshow": {
     "slide_type": "subslide"
    }
   },
   "source": [
    "Ejercicio [ImprimiendoMensajes2]\n",
    "\n",
    "Se tienen las siguientes variables a = \"planetas\" y b = \"celestes\".\n",
    "\n",
    "Imprima el siguiente mensaje usando f-string: los planetas son cuerpos celestes"
   ]
  },
  {
   "cell_type": "code",
   "execution_count": null,
   "id": "1642ae10",
   "metadata": {
    "slideshow": {
     "slide_type": "fragment"
    }
   },
   "outputs": [],
   "source": [
    "a = \"planetas\"\n",
    "b = \"celestes\"\n",
    "print(f\"los {a} son cuerpos {b}\")"
   ]
  },
  {
   "cell_type": "markdown",
   "id": "91efbd16",
   "metadata": {
    "slideshow": {
     "slide_type": "subslide"
    }
   },
   "source": [
    "Ejercicio [ImprimiendoMensajes3]\n",
    "\n",
    "Se tienen las siguientes variables a = 5 y b = 8.\n",
    "\n",
    "Imprima el siguiente mensaje usando f-string: El resultado de multiplicar 5 y 8 es 40."
   ]
  },
  {
   "cell_type": "code",
   "execution_count": null,
   "id": "e59256ea",
   "metadata": {
    "slideshow": {
     "slide_type": "fragment"
    }
   },
   "outputs": [],
   "source": [
    "a = 9\n",
    "b = 8\n",
    "c = a*b\n",
    "print(f\"El resultado de multiplicar {a} y {b} es {a*b}\")\n",
    "print(f\"El resultado de multiplicar {a} y {b} es {c}\")"
   ]
  },
  {
   "cell_type": "markdown",
   "id": "1223dd5d",
   "metadata": {
    "slideshow": {
     "slide_type": "subslide"
    }
   },
   "source": [
    "#### Impresión de variables con str.format()\n",
    "Es una forma más elegante que el f-string"
   ]
  },
  {
   "cell_type": "code",
   "execution_count": null,
   "id": "a459c167",
   "metadata": {
    "slideshow": {
     "slide_type": "fragment"
    }
   },
   "outputs": [],
   "source": [
    "a = 7\n",
    "b = 5\n",
    "\n",
    "print(\"Imprimir dos variables con format {} y {}\".format(a,b))\n",
    "print(\"Imprimir dos variables con format {0} y {1}\".format(a,b))\n",
    "print(\"Imprimir dos variables con format {1} y {0}\".format(a,b))\n",
    "print(\"Imprimir dos variables con format {v1} y {v2}\".format(v1=a,v2=b))\n",
    "print(\"Imprimir dos variables con format {0},{1}, y {otro}\".format(a,b,otro=\"gato\"))"
   ]
  },
  {
   "cell_type": "markdown",
   "id": "03616297",
   "metadata": {
    "slideshow": {
     "slide_type": "slide"
    }
   },
   "source": [
    "# 3. Variables\n",
    "Es el nombre que se le asigna, dentro de un programa, a una posición de memoria con el fin de poder manipular el dato almacenado en dicha posición."
   ]
  },
  {
   "cell_type": "code",
   "execution_count": null,
   "id": "06c1bff0",
   "metadata": {
    "slideshow": {
     "slide_type": "fragment"
    }
   },
   "outputs": [],
   "source": [
    "#Creando variables\n",
    "nombre = \"Luisa\"\n",
    "edad = 2\n",
    "\n",
    "print(f\"La edad de {nombre} es {edad}\")"
   ]
  },
  {
   "cell_type": "markdown",
   "id": "7360f744",
   "metadata": {
    "slideshow": {
     "slide_type": "subslide"
    }
   },
   "source": [
    "- En programación, el tipo de datos es un concepto importante.\n",
    "- Las variables pueden almacenar datos de diferentes tipos y diferentes tipos pueden hacer cosas diferentes.\n",
    "- Python tiene los siguientes tipos de datos integrados de forma predeterminada, en estas categorías:\n",
    "\n",
    "    - Tipo de texto:\tstr\n",
    "    - Tipos númericos:\tint, float, complex\n",
    "    - Tipos de secuencia:\tlist, tuple, range\n",
    "    - Tipo de mapeo:\tdict\n",
    "    - Tipo de conjunto:\tset, frozenset\n",
    "    - Tipo booleano:\tbool\n",
    "    - Tipos binarios:\tbytes, bytearray, memoryview"
   ]
  },
  {
   "cell_type": "markdown",
   "id": "dea985ce",
   "metadata": {
    "slideshow": {
     "slide_type": "subslide"
    }
   },
   "source": [
    "### Declaración de variables\n",
    "- Para declarar una variable, primero debemos darle un nombre cualquiera a la variable utilizando letras y números sin espacios, teniendo en cuenta que las mayúsculas importan. \n",
    "- Luego de darle un nombre a la variable, se le asigna un valor por medio del operador “=”. \n",
    "- De esta forma, el programa puede separar un bloque de memoria para la variable y guardar en dicho bloque el valor de esta. \n",
    "- A diferencia de otros lenguajes de programación, en Python no se puede declarar una variable sin asignarle un valor."
   ]
  },
  {
   "cell_type": "code",
   "execution_count": null,
   "id": "c9f205e0",
   "metadata": {
    "slideshow": {
     "slide_type": "fragment"
    }
   },
   "outputs": [],
   "source": [
    "#Creando variables\n",
    "x = 5\n",
    "y = \"Luisa\"\n",
    "\n",
    "print(type(x))\n",
    "print(type(y))"
   ]
  },
  {
   "cell_type": "markdown",
   "id": "70e68a40",
   "metadata": {
    "slideshow": {
     "slide_type": "subslide"
    }
   },
   "source": [
    "Revise el siguiente código: ¿Algún comentario?"
   ]
  },
  {
   "cell_type": "code",
   "execution_count": null,
   "id": "93c5bfa9",
   "metadata": {
    "slideshow": {
     "slide_type": "fragment"
    }
   },
   "outputs": [],
   "source": [
    "nombre = \"luisa\"\n",
    "edad = 28\n",
    "salario = 4.5\n",
    "ext = 0.2\n",
    "g = z+ext"
   ]
  },
  {
   "cell_type": "markdown",
   "id": "10b42809",
   "metadata": {
    "slideshow": {
     "slide_type": "subslide"
    }
   },
   "source": [
    "#### Reglas para variables de Python:\n",
    "- El nombre de una variable debe comenzar con una letra o el carácter de subrayado\n",
    "- Un nombre de variable no puede comenzar con un número\n",
    "- El nombre de una variable solo puede contener caracteres alfanuméricos y guiones bajos (A-z, 0-9 y _)\n",
    "- Los nombres de las variables distinguen entre mayúsculas y minúsculas (la edad, la Edad y la EDAD son tres variables diferentes)"
   ]
  },
  {
   "cell_type": "code",
   "execution_count": null,
   "id": "39ec20b5",
   "metadata": {
    "slideshow": {
     "slide_type": "fragment"
    }
   },
   "outputs": [],
   "source": [
    "minombre = \"luisa\"\n",
    "mi_nombre = \"luisa\"\n",
    "_mi_nombre = \"luisa\"\n",
    "miNombre = \"luisa\"\n",
    "MINOMBRE = \"luisa\"\n",
    "miNombre1 = \"luisa\"\n",
    "\n",
    "#2minombre = \"luisa\" # Error\n",
    "#mi-nombre = \"luisa\" #Error\n",
    "#mi nombre = \"luisa\" #Error"
   ]
  },
  {
   "cell_type": "code",
   "execution_count": null,
   "id": "4446612f",
   "metadata": {
    "slideshow": {
     "slide_type": "fragment"
    }
   },
   "outputs": [],
   "source": [
    "#Variables son case-sensitive\n",
    "a = 4\n",
    "print(a)\n",
    "A = \"Sally\"\n",
    "print(A)\n"
   ]
  },
  {
   "cell_type": "markdown",
   "id": "7093e70b",
   "metadata": {
    "slideshow": {
     "slide_type": "subslide"
    }
   },
   "source": [
    "#### Nombre de variables con múltiples palabras\n",
    "Los nombres de variables con más de una palabra pueden resultar difíciles de leer.\n",
    "\n",
    "Hay varias técnicas que puede utilizar para hacerlos más legibles:"
   ]
  },
  {
   "cell_type": "code",
   "execution_count": null,
   "id": "4d3e2301",
   "metadata": {
    "slideshow": {
     "slide_type": "fragment"
    }
   },
   "outputs": [],
   "source": [
    "# Camel Case\n",
    "primerNombre = \"luisa\" #La que usaremos en el curso\n",
    "# Pascal Case\n",
    "PrimerNombre = \"luisa\"\n",
    "# Snake Case\n",
    "primer_nombre = \"luisa\""
   ]
  },
  {
   "cell_type": "markdown",
   "id": "dcdf8463",
   "metadata": {
    "slideshow": {
     "slide_type": "subslide"
    }
   },
   "source": [
    "#### Tipos númericos"
   ]
  },
  {
   "cell_type": "code",
   "execution_count": null,
   "id": "bd72c511",
   "metadata": {
    "slideshow": {
     "slide_type": "fragment"
    }
   },
   "outputs": [],
   "source": [
    "miVariableEntera = 4\n",
    "miVariableReal = 4.0\n",
    "multiplicación = 3.1 * -2\n",
    "print(miVariableEntera)\n",
    "print(miVariableReal)\n",
    "print(multiplicación)\n",
    "print(\"La suma de dos variables: \", miVariableEntera+miVariableReal)"
   ]
  },
  {
   "cell_type": "markdown",
   "id": "5f70af6e",
   "metadata": {
    "slideshow": {
     "slide_type": "subslide"
    }
   },
   "source": [
    "•\tEjercicio [VariablesNumericas]\n",
    "- Cree tres variables enteras:\n",
    "    - Una para la edad de Bill Gates\n",
    "    - Otra para la edad de Mark Zuckerberg.\n",
    "    - Otra para la edad de Mariana Pajón.\n",
    "- Encuentre el promedio de las 3 edades anteriores.\n",
    "- Imprima el resultado por pantalla."
   ]
  },
  {
   "cell_type": "code",
   "execution_count": null,
   "id": "ed67561e",
   "metadata": {
    "slideshow": {
     "slide_type": "fragment"
    }
   },
   "outputs": [],
   "source": []
  },
  {
   "cell_type": "markdown",
   "id": "636f3192",
   "metadata": {
    "slideshow": {
     "slide_type": "subslide"
    }
   },
   "source": [
    "#### Tipos String o textos\n",
    "- Las variables de tipo string se utilizan para almacenar texto, o cadenas de caracteres.\n",
    "- Si queremos almacenar un texto, basta con escribir el texto que se desee almacenar entre comillas y asignarle una variable.\n"
   ]
  },
  {
   "cell_type": "code",
   "execution_count": null,
   "id": "e0505bf8",
   "metadata": {
    "slideshow": {
     "slide_type": "fragment"
    }
   },
   "outputs": [],
   "source": [
    "string1 = \"Hola\"\n",
    "string2 = \"Beneficiario\"\n",
    "stringDeNumeros = \"156465454\"\n",
    "print(string1)\n",
    "print(string2)\n",
    "print(stringDeNumeros)\n",
    "print(\"Strings combinados: \",string1,string2,stringDeNumeros)"
   ]
  },
  {
   "cell_type": "markdown",
   "id": "aa49102e",
   "metadata": {
    "slideshow": {
     "slide_type": "subslide"
    }
   },
   "source": [
    "•\tEjercicio [SolicitudInfo2]\n",
    "- Cree tres variables tipo string:\n",
    "    - Una para su nombre\n",
    "    - Otra para su apellido\n",
    "    - Otra para su edad\n",
    "- Finalmente, imprima todos esos datos por pantalla."
   ]
  },
  {
   "attachments": {},
   "cell_type": "markdown",
   "id": "a47b3be2",
   "metadata": {
    "slideshow": {
     "slide_type": "subslide"
    }
   },
   "source": [
    "#### Operaciones con strings\n",
    "str (String) es una clase propia de python y provee una serie de funciones que son muy útiles.\n",
    "\n",
    "str funciona como un arreglo (conjunto de variables del mismo tipo que se citan y manejan con un mismo nombre). Si definimos x = \"Hola mundo\", internamente Python almacena ese texto de la siguiente manera (como un arreglo)\n",
    "\n",
    "        x = \"Hola mundo\"\n",
    "\n",
    "|H||o||l||a|| ||m||u||n||d||o|\n",
    "| --- || --- || --- || --- || --- || --- || --- || --- || --- || --- |\n",
    "|0||1||2||3|| 4||5||6||7||8||9|  \n",
    "\n",
    "El número se conoce como posición o índice."
   ]
  },
  {
   "attachments": {},
   "cell_type": "markdown",
   "id": "10f478e9",
   "metadata": {
    "slideshow": {
     "slide_type": "subslide"
    }
   },
   "source": [
    "##### 1. Concatenación\n",
    "Una de las operaciones mas útiles cuando se trabaja con Strings es la concatenación. Esta operación se realiza mediante el uso del símbolo “+”. Dos Strings pueden ser combinados para crear un nuevo String.\n",
    "Consideremos el siguiente ejemplo:\n"
   ]
  },
  {
   "cell_type": "code",
   "execution_count": null,
   "id": "976b200e",
   "metadata": {
    "slideshow": {
     "slide_type": "fragment"
    }
   },
   "outputs": [],
   "source": [
    "a = \"Hola luisa\"\n",
    "b = \", cómo estás?\"\n",
    "\n",
    "print(a+b) #Concatenación"
   ]
  },
  {
   "attachments": {},
   "cell_type": "markdown",
   "id": "1f3094f4",
   "metadata": {
    "slideshow": {
     "slide_type": "subslide"
    }
   },
   "source": [
    "##### 2. Longitud\n",
    "Podemos usar el método len(str) para retornar el número de caracteres del String str. \n"
   ]
  },
  {
   "cell_type": "code",
   "execution_count": null,
   "id": "08c7b9a8",
   "metadata": {
    "slideshow": {
     "slide_type": "fragment"
    }
   },
   "outputs": [],
   "source": [
    "a = \"Hola luisa\"\n",
    "print(len(a)) \n",
    "print(len(a)-1) "
   ]
  },
  {
   "cell_type": "code",
   "execution_count": null,
   "id": "ac676e65",
   "metadata": {
    "slideshow": {
     "slide_type": "fragment"
    }
   },
   "outputs": [],
   "source": [
    "texto1 = \"Hola beneficiarios \"\n",
    "tamano = len(texto1)\n",
    "print(tamano)\n",
    "\n",
    "texto2 = \"Hola\"\n",
    "tamano2 = len(texto1+texto2)\n",
    "print(tamano2)"
   ]
  },
  {
   "attachments": {},
   "cell_type": "markdown",
   "id": "b52afa2c",
   "metadata": {
    "slideshow": {
     "slide_type": "subslide"
    }
   },
   "source": [
    "##### 3. Extraer un carácter\n",
    "Dado que los Strings en Python son arreglos, extraer un carácter especifico resulta muy sencillo. Basta con coloca el nombre de la variable que almacena el String, luego corchetes [] y dentro de los corchetes la posición del carácter que queremos extraer."
   ]
  },
  {
   "cell_type": "code",
   "execution_count": null,
   "id": "9a112b7a",
   "metadata": {
    "slideshow": {
     "slide_type": "fragment"
    }
   },
   "outputs": [],
   "source": [
    "a = \"Hola luisa\"\n",
    "print(a[1]) #Obtener el caracter en determinada posición"
   ]
  },
  {
   "cell_type": "code",
   "execution_count": null,
   "id": "3f35d904",
   "metadata": {
    "slideshow": {
     "slide_type": "fragment"
    }
   },
   "outputs": [],
   "source": [
    "texto1 = \"Hola beneficiarios\"\n",
    "p0 = texto1[0]\n",
    "p3 = texto1[3]\n",
    "pfinal = texto1[len(texto1)-1]\n",
    "print(p0)\n",
    "print(p3)\n",
    "print(pfinal)"
   ]
  },
  {
   "cell_type": "markdown",
   "id": "cf4a9c4a",
   "metadata": {
    "slideshow": {
     "slide_type": "subslide"
    }
   },
   "source": [
    "Ejercicio [ModificarString]\n",
    "- Cree una variable con un texto\n",
    "- Imprima la longitud del texto.\n",
    "- Imprima la última posición de la cadena\n",
    "- Imprima el primer carácter de la cadena\n",
    "- Imprima el último carácter de la cadena"
   ]
  },
  {
   "cell_type": "code",
   "execution_count": null,
   "id": "4a1532bb",
   "metadata": {
    "slideshow": {
     "slide_type": "fragment"
    }
   },
   "outputs": [],
   "source": []
  },
  {
   "attachments": {},
   "cell_type": "markdown",
   "id": "46184521",
   "metadata": {
    "slideshow": {
     "slide_type": "subslide"
    }
   },
   "source": [
    "##### 4. Extraer una cadena de una cadena\n",
    "Si queremos extraer no un carácter, si no múltiples caracteres de una cadena, podemos utilizar los corchetes [] y dentro definir, la posición inicial desde la cual queremos empezar a extraer, luego le siguen dos puntos “:” y luego la posición final + 1 hasta la cual queremos extraer."
   ]
  },
  {
   "cell_type": "code",
   "execution_count": null,
   "id": "9e9d2266",
   "metadata": {
    "slideshow": {
     "slide_type": "fragment"
    }
   },
   "outputs": [],
   "source": [
    "a = \"Hola luisa\"\n",
    "print(a[2:5]) #Cortar una cadena\n",
    "print(a[:5]) #Cortar una cadena"
   ]
  },
  {
   "attachments": {},
   "cell_type": "markdown",
   "id": "311ba567",
   "metadata": {
    "slideshow": {
     "slide_type": "subslide"
    }
   },
   "source": [
    "##### 5. Encontrar un carácter\n",
    "Para encontrar un carácter en una cadena, o una cadena dentro de otra cadena, se puede utilizar la función str.find(str2). Esta función retorna la posición en la que aparece por primera vez el String str2, dentro del String str. O retorna -1 si no se encuentra."
   ]
  },
  {
   "cell_type": "code",
   "execution_count": null,
   "id": "3f70a5a4",
   "metadata": {
    "slideshow": {
     "slide_type": "fragment"
    }
   },
   "outputs": [],
   "source": [
    "a = \"Hola luisa\"\n",
    "print(a.find(\"a\")) #Retorna la posición en donde se encuentra el string\n",
    "print(a.find(\"a\",4)) #Retorna la posición en donde se encuentra el string, despues de esa posición\n",
    "\n",
    "busquedad1 = a.find(\"a\")\n",
    "print(a.find(\"a\",busquedad1+1))\n",
    "\n",
    "print(a.find(\"lui\"))\n",
    "\n",
    "print(\"free\" in a) #Validar si una palabra existe en la cadena inicial\n",
    "print(\"expensive\" not in a) #Validar si una palabra no existe en la cadena inicial"
   ]
  },
  {
   "attachments": {},
   "cell_type": "markdown",
   "id": "83fcaa18",
   "metadata": {
    "slideshow": {
     "slide_type": "subslide"
    }
   },
   "source": [
    "##### 6. Contar\n",
    "La función str.count(str2) se utiliza para encontrar cuantas veces aparece el String str2, dentro del String str."
   ]
  },
  {
   "cell_type": "code",
   "execution_count": null,
   "id": "a8e2570b",
   "metadata": {
    "slideshow": {
     "slide_type": "fragment"
    }
   },
   "outputs": [],
   "source": [
    "a = \"Hola luisa\"\n",
    "print(a.count(\"a\")) #Encontrar cuantas veces aparece la letra a\n",
    "print(a.count(\"lu\"))"
   ]
  },
  {
   "attachments": {},
   "cell_type": "markdown",
   "id": "3cfb10d0",
   "metadata": {
    "slideshow": {
     "slide_type": "subslide"
    }
   },
   "source": [
    "##### Modificando strings\n",
    "- Podemos usar el método str.lower() para retornar el String str en minúsculas. \n",
    "- Podemos usar el método str.upper() para retornar el String str en mayúsculas. \n",
    "- Podemos usar el método str.replace(a,b) para retornar el String str pero reemplazándole todos los texto que coindicen con a, por los textos b.\n",
    "- Podemos usar el método srt.strip() para eliminar los espacios al inicio y al final de la cadena."
   ]
  },
  {
   "cell_type": "code",
   "execution_count": null,
   "id": "df40234a",
   "metadata": {
    "slideshow": {
     "slide_type": "fragment"
    }
   },
   "outputs": [],
   "source": [
    "a = \" Hola luisa \"\n",
    "print(a.upper())\n",
    "print(a.lower())\n",
    "print(a.replace(\"H\", \"J\"))\n",
    "print(a.strip())"
   ]
  },
  {
   "attachments": {},
   "cell_type": "markdown",
   "id": "13c7c932",
   "metadata": {
    "slideshow": {
     "slide_type": "subslide"
    }
   },
   "source": [
    "Ejercicio [ModificarString]\n",
    "- Cree una variable con un texto\n",
    "- Obtenga la longitud del texto.\n",
    "- Imprima la posición donde se encuentra la primera \"a\"\n",
    "- Imprima la posición de donde se encuentra la segunda letra \"a\" en el texto recibido.\n",
    "- Imprima el primer carácter de la cadena\n",
    "- Imprima el último carácter de la cadena\n"
   ]
  },
  {
   "cell_type": "code",
   "execution_count": null,
   "id": "4e40055f",
   "metadata": {
    "slideshow": {
     "slide_type": "fragment"
    }
   },
   "outputs": [],
   "source": []
  },
  {
   "cell_type": "markdown",
   "id": "8f814d3e",
   "metadata": {
    "slideshow": {
     "slide_type": "subslide"
    }
   },
   "source": [
    "#### Booleanos\n",
    "- Son variables que almacenan un valor de True o False. Generalmente utilizadas para almacenar resultados de comparaciones (se ve más adelante).\n",
    "- Note que Python tiene reservadas las palabras True y False (Ojo: la inicial de True y False es en mayúscula)."
   ]
  },
  {
   "cell_type": "code",
   "execution_count": null,
   "id": "2bbdc3c0",
   "metadata": {
    "slideshow": {
     "slide_type": "fragment"
    }
   },
   "outputs": [],
   "source": [
    "x = True\n",
    "y = False\n",
    "print(\"x es: \", x)"
   ]
  },
  {
   "cell_type": "markdown",
   "id": "b061cb54",
   "metadata": {
    "slideshow": {
     "slide_type": "subslide"
    }
   },
   "source": [
    "#### Convirtiendo Variables\n",
    "Al programar, hay ocasiones en las que necesitamos convertir valores entre tipos para manipular los valores de una manera diferente. Por ejemplo, es posible que necesitemos concatenar valores numéricos con cadenas o representar posiciones decimales en números que se inicializaron como valores enteros."
   ]
  },
  {
   "cell_type": "code",
   "execution_count": null,
   "id": "775f3b2a",
   "metadata": {
    "slideshow": {
     "slide_type": "fragment"
    }
   },
   "outputs": [],
   "source": [
    "inicial = 3\n",
    "x = str(inicial)    # x será '3'\n",
    "y = int(inicial)    # y será 3\n",
    "z = float(inicial)  # z será 3.0\n",
    "print(x)\n",
    "print(y)\n",
    "print(z)"
   ]
  },
  {
   "cell_type": "code",
   "execution_count": null,
   "id": "300c9f59",
   "metadata": {
    "slideshow": {
     "slide_type": "fragment"
    }
   },
   "outputs": [],
   "source": [
    "inicial = \"hola\"\n",
    "#x = int(inicial) #Error\n",
    "print(x)\n",
    "\n",
    "inicial2 = \"3\"\n",
    "x2 = int(inicial2) #Valido\n",
    "print(x2)"
   ]
  },
  {
   "cell_type": "markdown",
   "id": "934288d3",
   "metadata": {
    "slideshow": {
     "slide_type": "subslide"
    }
   },
   "source": [
    "Ejercicio [ConvirtiendoVariables]\n",
    "- Cree una variable con un texto que contenga números.\n",
    "- Convierta ese texto a entero e imprima el resultado.\n",
    "- Convierta ese texto a real e imprima el resultado."
   ]
  },
  {
   "cell_type": "code",
   "execution_count": null,
   "id": "d20c7441",
   "metadata": {
    "slideshow": {
     "slide_type": "fragment"
    }
   },
   "outputs": [],
   "source": []
  },
  {
   "cell_type": "markdown",
   "id": "d4d52585",
   "metadata": {
    "slideshow": {
     "slide_type": "slide"
    }
   },
   "source": [
    "# 4. Recibir datos en Python"
   ]
  },
  {
   "cell_type": "markdown",
   "id": "3bfc7111",
   "metadata": {
    "slideshow": {
     "slide_type": "fragment"
    }
   },
   "source": [
    "La función input() permite a los usuarios introducir datos de distintos tipos desde la entrada estándar (teclado)."
   ]
  },
  {
   "cell_type": "code",
   "execution_count": null,
   "id": "371ecd22",
   "metadata": {
    "slideshow": {
     "slide_type": "fragment"
    }
   },
   "outputs": [],
   "source": [
    "Dato = input(\"Escriba el dato1\")\n",
    "print(Dato)"
   ]
  },
  {
   "cell_type": "markdown",
   "id": "1c7a94db",
   "metadata": {
    "slideshow": {
     "slide_type": "subslide"
    }
   },
   "source": [
    "Ejercicio [SolicitudInfo]\n",
    "- Cree un programa que solicite:\n",
    "    - Primero el nombre y lo guarde en una variable nombre\n",
    "    - Segundo el apellido y lo guarde en una variable apellido\n",
    "- Finalmente, imprima todos esos datos por pantalla."
   ]
  },
  {
   "cell_type": "code",
   "execution_count": null,
   "id": "581218ea",
   "metadata": {
    "slideshow": {
     "slide_type": "fragment"
    }
   },
   "outputs": [],
   "source": []
  },
  {
   "cell_type": "markdown",
   "id": "652e6b15",
   "metadata": {
    "slideshow": {
     "slide_type": "subslide"
    }
   },
   "source": [
    "#### Uso de input() con f-string"
   ]
  },
  {
   "cell_type": "code",
   "execution_count": null,
   "id": "37155aea",
   "metadata": {
    "slideshow": {
     "slide_type": "fragment"
    }
   },
   "outputs": [],
   "source": [
    "nombre = input(\"Dígite su nombre\")\n",
    "apellido = input(f\"ahora {nombre} Dígite su apellido\")\n",
    "print(\"Nombre:\", nombre, \"Apellido:\", apellido)"
   ]
  },
  {
   "cell_type": "markdown",
   "id": "bea1d768",
   "metadata": {
    "slideshow": {
     "slide_type": "subslide"
    }
   },
   "source": [
    "#### El input() por defecto recibe todo como string (texto)."
   ]
  },
  {
   "cell_type": "code",
   "execution_count": null,
   "id": "0f38c957",
   "metadata": {
    "slideshow": {
     "slide_type": "fragment"
    }
   },
   "outputs": [],
   "source": [
    "edad = input(\"Dígite su edad\")\n",
    "print(type(edad))"
   ]
  },
  {
   "cell_type": "code",
   "execution_count": null,
   "id": "4773cd34",
   "metadata": {
    "slideshow": {
     "slide_type": "fragment"
    }
   },
   "outputs": [],
   "source": [
    "edad = int(input(\"Dígite su edad\"))\n",
    "operacion = edad +2;\n",
    "print(operacion)"
   ]
  },
  {
   "cell_type": "code",
   "execution_count": null,
   "id": "5366be46",
   "metadata": {
    "slideshow": {
     "slide_type": "subslide"
    }
   },
   "outputs": [],
   "source": [
    "a = input(\"Entre un número\")\n",
    "b = input(\"Entre otro número\")\n",
    "print(a+b)\n",
    "\n",
    "a = int(input(\"Entre un número\"))\n",
    "b = int(input(\"Entre otro número\"))\n",
    "print(a+b)\n",
    "\n",
    "a = float(input(\"Entre un número\"))\n",
    "b = float(input(\"Entre otro número\"))\n",
    "print(a+b)\n"
   ]
  },
  {
   "cell_type": "markdown",
   "id": "285d5eb2",
   "metadata": {
    "slideshow": {
     "slide_type": "slide"
    }
   },
   "source": [
    "# 5. Ejercicios"
   ]
  },
  {
   "cell_type": "markdown",
   "id": "b672cbf0",
   "metadata": {
    "slideshow": {
     "slide_type": "subslide"
    }
   },
   "source": [
    "•\tEjercicio [SolicitudInfo3]\n",
    "- Cree un programa que le solicite al usuario:\n",
    "    - Sus nombres y apellidos (guárdelos como String)\n",
    "    - Su fecha de nacimiento (guárdela como String)\n",
    "    - Su edad (guárdela como int)\n",
    "    - Su estatura (guárdela como float)\n",
    "- Finalmente, imprima todos esos datos por pantalla."
   ]
  },
  {
   "cell_type": "code",
   "execution_count": null,
   "id": "5599b9cf",
   "metadata": {
    "slideshow": {
     "slide_type": "fragment"
    }
   },
   "outputs": [],
   "source": []
  },
  {
   "cell_type": "markdown",
   "id": "226c7e99",
   "metadata": {
    "slideshow": {
     "slide_type": "subslide"
    }
   },
   "source": [
    "•\tEjercicio [area-circulo]\n",
    "-\tPídale al usuario el radio de un círculo (float)\n",
    "-\tCalcule el área del circulo (area = 3.14 * radio * radio)\n",
    "-\tImprima por pantalla el área\n"
   ]
  },
  {
   "cell_type": "code",
   "execution_count": null,
   "id": "6036fe41",
   "metadata": {
    "slideshow": {
     "slide_type": "fragment"
    }
   },
   "outputs": [],
   "source": []
  },
  {
   "cell_type": "markdown",
   "id": "41c48576",
   "metadata": {
    "slideshow": {
     "slide_type": "subslide"
    }
   },
   "source": [
    "•\tEjercicio [area-rectangulo]\n",
    "-\tPídale al usuario por pantalla la base de un rectángulo (float)\n",
    "-\tPídale al usuario por pantalla la altura de un rectángulo (float)\n",
    "-\tCalcule el área del rectángulo (base*altura) -> asigne el resultado a una nueva variable (declaración)\n",
    "-\tMuestre el resultado por pantalla\n"
   ]
  },
  {
   "cell_type": "code",
   "execution_count": null,
   "id": "1a2ed70e",
   "metadata": {
    "slideshow": {
     "slide_type": "fragment"
    }
   },
   "outputs": [],
   "source": []
  },
  {
   "cell_type": "markdown",
   "id": "56bec4c7",
   "metadata": {
    "slideshow": {
     "slide_type": "subslide"
    }
   },
   "source": [
    "•\tEjercicio [edad]\n",
    "-\tPídale al usuario por pantalla el año en el que nació (ingrese números ej: 1990) (int)\n",
    "-\tPídale al usuario por pantalla el nombre (string)\n",
    "-\tCalcule la edad del usuario\n",
    "-\tMuéstrele por pantalla la edad al usuario\n"
   ]
  },
  {
   "cell_type": "code",
   "execution_count": null,
   "id": "300ca757",
   "metadata": {
    "slideshow": {
     "slide_type": "fragment"
    }
   },
   "outputs": [],
   "source": []
  },
  {
   "cell_type": "markdown",
   "id": "112efb33",
   "metadata": {
    "slideshow": {
     "slide_type": "subslide"
    }
   },
   "source": [
    "•\tEjercicio [asteroides]\n",
    "-\tPídale al usuario un numero de asteroides (int)\n",
    "-\tPídale al usuario un nombre para todos los asteroides (string)\n",
    "-\tImprima por pantalla lo siguiente: “Los NUMERO_ASTEROIDES asteroides NOMBRE_ASTEROIDES caerán mañana”. (Nota reemplace NUMERO_ASTEROIDES y NOMBRE_ASTEROIDES por los valores recogidos por pantalla)\n"
   ]
  },
  {
   "cell_type": "code",
   "execution_count": null,
   "id": "12af3e65",
   "metadata": {
    "slideshow": {
     "slide_type": "fragment"
    }
   },
   "outputs": [],
   "source": []
  },
  {
   "cell_type": "markdown",
   "id": "3156bb42",
   "metadata": {
    "slideshow": {
     "slide_type": "subslide"
    }
   },
   "source": [
    "•\tEjercicio [peso]\n",
    "\n",
    "Escriba un programa que pida el peso (en kilogramos) y la altura (en metros) de una persona y que calcule su índice de masa corporal (imc).\n",
    "fórmula imc = peso / altura al cuadrado.\n"
   ]
  },
  {
   "cell_type": "markdown",
   "id": "f72d2f54",
   "metadata": {
    "slideshow": {
     "slide_type": "subslide"
    }
   },
   "source": [
    "•\tEjercicio [pulgadas]\n",
    "\n",
    "Escriba un programa que pida una distancia en pulgadas y que escriba esa distancia en centímetros. Una pulgada son 2,54 cm"
   ]
  },
  {
   "cell_type": "markdown",
   "id": "8ccf7684",
   "metadata": {},
   "source": [
    "•\tEjercicio [celsius-farenheit]\n",
    "\n",
    "Escriba un programa que pida una temperatura en grados Celsius y que escriba esa temperatura en grados Fahrenheit.\n",
    "$F = 1,8 * C + 32 $"
   ]
  },
  {
   "cell_type": "markdown",
   "id": "5bf296e2",
   "metadata": {},
   "source": [
    "•\tEjercicio [segundos]\n",
    "\n",
    "Escriba un programa que pida una cantidad de segundos y que escriba cuántos horas y minutos son. "
   ]
  }
 ],
 "metadata": {
  "celltoolbar": "Slideshow",
  "kernelspec": {
   "display_name": "Python 3",
   "language": "python",
   "name": "python3"
  },
  "language_info": {
   "codemirror_mode": {
    "name": "ipython",
    "version": 3
   },
   "file_extension": ".py",
   "mimetype": "text/x-python",
   "name": "python",
   "nbconvert_exporter": "python",
   "pygments_lexer": "ipython3",
   "version": "3.9.0"
  },
  "rise": {
   "autolaunch": true,
   "backimage": "mybackimage.png",
   "scroll": true
  }
 },
 "nbformat": 4,
 "nbformat_minor": 5
}
